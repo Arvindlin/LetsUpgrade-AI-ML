{
 "cells": [
  {
   "cell_type": "code",
   "execution_count": 9,
   "metadata": {},
   "outputs": [
    {
     "name": "stdout",
     "output_type": "stream",
     "text": [
      "Addition of complex No. (2+3j)  &  (5-8j) is = (7-5j)\n",
      "Substraction of complex No. (2+3j)  &  (5-8j) is = (-3+11j)\n",
      "Multiplication of complex No. (2+3j)  &  (5-8j) is = (34-1j)\n",
      "Addition of complex No. (2+3j)  &  (5-8j) is = (-0.15730337078651685+0.34831460674157305j)\n"
     ]
    }
   ],
   "source": [
    "#Question 1 :Research on whether addition, subtraction, multiplication, division, floor division and modulo operations \n",
    "#be performed on complex numbers. Based on your study, implement a Python program to demonstrate these operations.\n",
    "\n",
    "#Solution:\n",
    "\n",
    "a=2+3j\n",
    "b=5-8j\n",
    "\n",
    "#addition operation in Complex Number.\n",
    "c=a+b\n",
    "print(\"Addition of complex No.\",a,\" & \",b, \"is =\",c)\n",
    "\n",
    "#Substraction operation in Complex Number.\n",
    "c=a-b\n",
    "print(\"Substraction of complex No.\",a,\" & \",b, \"is =\",c)\n",
    "\n",
    "#Multiplication operation in Complex Number.\n",
    "c=a*b\n",
    "print(\"Multiplication of complex No.\",a,\" & \",b, \"is =\",c)\n",
    "\n",
    "#Addition operation in Complex Number.\n",
    "c=a/b\n",
    "print(\"Addition of complex No.\",a,\" & \",b, \"is =\",c)\n",
    "\n",
    "#floor division & modulo operations in Complex Number will not work.\n",
    "\n",
    "#c=a//b\n",
    "#print(\"floor division of complex No.\",a,\" & \",b, \"is =\",c)\n",
    "\n",
    "#c=a%b\n",
    "#print(c)\n"
   ]
  },
  {
   "cell_type": "markdown",
   "metadata": {},
   "source": [
    "Question 2 :Research on range() functions and its parameters. Create a markdown cell and write in your own words \n",
    "(no copy-paste from google please) what you understand about it. Implement a small program of your choice on the same.\n",
    "Answer:-\n",
    "Range() is a buid-in function in Python,commanly used to iterate the loop upto desirable time.\n",
    "like if we want to run the same loop 10 times then we have to give the range of 10.we can also decide the starting & End No. of the range.\n",
    "\n"
   ]
  },
  {
   "cell_type": "code",
   "execution_count": 13,
   "metadata": {},
   "outputs": [
    {
     "name": "stdout",
     "output_type": "stream",
     "text": [
      "0 is an even number\n",
      "1 is an odd number\n",
      "2 is an even number\n",
      "3 is an odd number\n",
      "4 is an even number\n",
      "5 is an odd number\n",
      "6 is an even number\n",
      "7 is an odd number\n",
      "8 is an even number\n",
      "9 is an odd number\n"
     ]
    }
   ],
   "source": [
    "#small program of Range() function\n",
    "for i in range(10):\n",
    "    if(i%2==0):\n",
    "        print(i,\"is an even number\")\n",
    "    else:\n",
    "        print(i,\"is an odd number\")"
   ]
  },
  {
   "cell_type": "code",
   "execution_count": 6,
   "metadata": {},
   "outputs": [
    {
     "name": "stdout",
     "output_type": "stream",
     "text": [
      "1000\n"
     ]
    }
   ],
   "source": [
    "#Question 3:Consider two numbers. Perform their subtraction and if the result of subtraction is greater than\n",
    "#25, print their multiplication result else print their division result.\n",
    "\n",
    "#Solution:\n",
    "a=50\n",
    "b=20\n",
    "if(a-b>25):\n",
    "    print(a*b)\n",
    "else:\n",
    "    print(a/b)\n",
    "\n",
    "\n"
   ]
  },
  {
   "cell_type": "code",
   "execution_count": 8,
   "metadata": {},
   "outputs": [
    {
     "name": "stdout",
     "output_type": "stream",
     "text": [
      "10\n",
      "98\n",
      "40\n",
      "1598\n",
      "80\n",
      "6398\n",
      "76\n",
      "5774\n",
      "90\n",
      "8098\n",
      "100\n",
      "9998\n"
     ]
    }
   ],
   "source": [
    "#Consider a list of 10 elements of integer values. If the number in the list is divisible by 2, print the result as \n",
    "#\"square of that number minus 2\".\n",
    "#Solution:\n",
    "l=[10,75,40,80,55,87,76,90,99,100]\n",
    "for i in l:\n",
    "    if(i%2==0):\n",
    "        #print(i)\n",
    "        print(i**2-2)"
   ]
  },
  {
   "cell_type": "code",
   "execution_count": 12,
   "metadata": {},
   "outputs": [
    {
     "name": "stdout",
     "output_type": "stream",
     "text": [
      "10\n",
      "40\n",
      "90\n"
     ]
    }
   ],
   "source": [
    "#Question 5:Consider a list of 10 elements. Print all the elements in the list which are greater than 7 when that number is divided 2.\n",
    "l=[10,75,40,5,55,87,5,90,99,2]\n",
    "for i in l:\n",
    "    if(i>7 and i%2==0):\n",
    "        print(i)\n",
    "    "
   ]
  },
  {
   "cell_type": "code",
   "execution_count": null,
   "metadata": {},
   "outputs": [],
   "source": []
  }
 ],
 "metadata": {
  "kernelspec": {
   "display_name": "Python 3",
   "language": "python",
   "name": "python3"
  },
  "language_info": {
   "codemirror_mode": {
    "name": "ipython",
    "version": 3
   },
   "file_extension": ".py",
   "mimetype": "text/x-python",
   "name": "python",
   "nbconvert_exporter": "python",
   "pygments_lexer": "ipython3",
   "version": "3.7.6"
  }
 },
 "nbformat": 4,
 "nbformat_minor": 4
}
