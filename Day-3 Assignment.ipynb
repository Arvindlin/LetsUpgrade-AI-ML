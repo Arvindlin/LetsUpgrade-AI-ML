{
 "cells": [
  {
   "cell_type": "code",
   "execution_count": 2,
   "metadata": {},
   "outputs": [
    {
     "name": "stdout",
     "output_type": "stream",
     "text": [
      "Sum of a= (2+3j) & b= (3+4j) is c= (5+7j)\n"
     ]
    }
   ],
   "source": [
    "#1.Write a program to subtract two complex numbers in Python.\n",
    "a =2+3j\n",
    "b =3+4j\n",
    "c =a+b\n",
    "print(\"Sum of a=\",a,\"& b=\",b, \"is c=\",c)"
   ]
  },
  {
   "cell_type": "code",
   "execution_count": 4,
   "metadata": {},
   "outputs": [
    {
     "name": "stdout",
     "output_type": "stream",
     "text": [
      "the fourth root of  16 is = 2.0\n"
     ]
    }
   ],
   "source": [
    "#2.Write a program to find the fourth root of a number\n",
    "a=16\n",
    "print(\"the fourth root of \",a,\"is =\",a**(1/4))"
   ]
  },
  {
   "cell_type": "code",
   "execution_count": 6,
   "metadata": {},
   "outputs": [
    {
     "name": "stdout",
     "output_type": "stream",
     "text": [
      "initial value of a= 12\n",
      "initial value of b= 20\n",
      "after swaping value of a= 20\n",
      "after swaping value of b= 12\n"
     ]
    }
   ],
   "source": [
    "# 3. Write a program to swap two numbers in Python with the help of a temporary variable.\n",
    "a =12\n",
    "b =20\n",
    "\n",
    "print(\"initial value of a=\",a)\n",
    "print(\"initial value of b=\",b)\n",
    "temp = a\n",
    "a = b\n",
    "b = temp\n",
    "print(\"after swaping value of a=\", a)\n",
    "print(\"after swaping value of b=\", b)"
   ]
  },
  {
   "cell_type": "code",
   "execution_count": 20,
   "metadata": {},
   "outputs": [
    {
     "name": "stdout",
     "output_type": "stream",
     "text": [
      "initial value of a= 12\n",
      "initial value of b= 20\n",
      "\n",
      "After swaping value of a= 20\n",
      "After swaping value of b= 12\n"
     ]
    }
   ],
   "source": [
    "#4.Write a program to swap two numbers in Python without using a temporary variable.\n",
    "a =12\n",
    "b =20\n",
    "\n",
    "print(\"initial value of a=\",a)\n",
    "print(\"initial value of b=\",b)\n",
    "a = a+b \n",
    "b = a-b\n",
    "a = a-b\n",
    "print(\"\")\n",
    "print(\"After swaping value of a=\", a)\n",
    "print(\"After swaping value of b=\", b)"
   ]
  },
  {
   "cell_type": "code",
   "execution_count": 14,
   "metadata": {},
   "outputs": [
    {
     "name": "stdout",
     "output_type": "stream",
     "text": [
      "fahrenheit 32\n",
      "fahrenheit to kelvin = 824.2611111111111  and celsius= 0.0\n"
     ]
    }
   ],
   "source": [
    "#5.Write a program to convert fahrenheit to kelvin and celsius both.\n",
    "F = 32\n",
    "print(\"fahrenheit\",F)\n",
    "K=(32*F-32) * 5/9 + 273.15\n",
    "C= (F-32)*(5/9) \n",
    "print(\"fahrenheit to kelvin =\",K, \" and celsius=\", C)"
   ]
  },
  {
   "cell_type": "code",
   "execution_count": 18,
   "metadata": {},
   "outputs": [
    {
     "name": "stdout",
     "output_type": "stream",
     "text": [
      "a= 1 ,type of a is  <class 'int'>\n",
      "b= string ,type of b is  <class 'str'>\n",
      "c= (4+5j) ,type of c is  <class 'complex'>\n",
      "d= 2.56 ,type of d is  <class 'float'>\n"
     ]
    }
   ],
   "source": [
    "#6.Write a program to demonstrate all the available data types in Python. Hint: Use type() function.\n",
    "\n",
    "a=1\n",
    "b=\"string\"\n",
    "c=4+5j\n",
    "d=2.56\n",
    "\n",
    "\n",
    "print(\"a=\",a,\",type of a is \",type(a))\n",
    "print(\"b=\",b,\",type of b is \",type(b))\n",
    "print(\"c=\",c,\",type of c is \",type(c))\n",
    "print(\"d=\",d,\",type of d is \",type(d)) "
   ]
  },
  {
   "cell_type": "code",
   "execution_count": null,
   "metadata": {},
   "outputs": [],
   "source": [
    "\n",
    "       "
   ]
  },
  {
   "cell_type": "markdown",
   "metadata": {},
   "source": [
    "#7.Create a Markdown cell in jupyter and list the steps discussed in the session by Dr. Darshan \n",
    "#Ingle sir to create Github profile and upload Githubs Assignment link.\n",
    "1. First Sign-up in Github & make Your profile.\n",
    "2. Sign-in the github_Id.\n",
    "3. To push the code, click on new.\n",
    "4. Name the Repository as LetsUpgrade-AI-ML.\n",
    "5. Type assignments in Discription box.\n",
    "6. Make Repository as public.\n",
    "7. then click on create Repository.\n",
    "8. A folder LetsUpgrade-AI-ML will be created.\n",
    "9. Then Upload the existing by drag & drop Method.\n",
    "10. Then click on Commit Changes.\n",
    "11. copy the url of assignment folder.\n",
    "12. paste it on Letsupgrade shared file with mentioned date of assignment.\n",
    "13. To confirm Whether Url is public or not try to open it in incognito mode.\n",
    "\n"
   ]
  }
 ],
 "metadata": {
  "kernelspec": {
   "display_name": "Python 3",
   "language": "python",
   "name": "python3"
  },
  "language_info": {
   "codemirror_mode": {
    "name": "ipython",
    "version": 3
   },
   "file_extension": ".py",
   "mimetype": "text/x-python",
   "name": "python",
   "nbconvert_exporter": "python",
   "pygments_lexer": "ipython3",
   "version": "3.7.6"
  }
 },
 "nbformat": 4,
 "nbformat_minor": 4
}
