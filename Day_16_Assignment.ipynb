{
 "cells": [
  {
   "cell_type": "code",
   "execution_count": 1,
   "metadata": {},
   "outputs": [],
   "source": [
    "%matplotlib inline\n",
    "import pandas as pd"
   ]
  },
  {
   "cell_type": "code",
   "execution_count": null,
   "metadata": {},
   "outputs": [],
   "source": []
  },
  {
   "cell_type": "code",
   "execution_count": 2,
   "metadata": {},
   "outputs": [],
   "source": [
    " data1= pd.read_csv('titles.csv')\n"
   ]
  },
  {
   "cell_type": "code",
   "execution_count": 3,
   "metadata": {},
   "outputs": [
    {
     "data": {
      "text/html": [
       "<div>\n",
       "<style scoped>\n",
       "    .dataframe tbody tr th:only-of-type {\n",
       "        vertical-align: middle;\n",
       "    }\n",
       "\n",
       "    .dataframe tbody tr th {\n",
       "        vertical-align: top;\n",
       "    }\n",
       "\n",
       "    .dataframe thead th {\n",
       "        text-align: right;\n",
       "    }\n",
       "</style>\n",
       "<table border=\"1\" class=\"dataframe\">\n",
       "  <thead>\n",
       "    <tr style=\"text-align: right;\">\n",
       "      <th></th>\n",
       "      <th>title</th>\n",
       "      <th>year</th>\n",
       "    </tr>\n",
       "  </thead>\n",
       "  <tbody>\n",
       "    <tr>\n",
       "      <th>0</th>\n",
       "      <td>Tasveer Mere Sanam</td>\n",
       "      <td>1996</td>\n",
       "    </tr>\n",
       "    <tr>\n",
       "      <th>1</th>\n",
       "      <td>Only You</td>\n",
       "      <td>1994</td>\n",
       "    </tr>\n",
       "    <tr>\n",
       "      <th>2</th>\n",
       "      <td>El pueblo del terror</td>\n",
       "      <td>1970</td>\n",
       "    </tr>\n",
       "    <tr>\n",
       "      <th>3</th>\n",
       "      <td>Machine</td>\n",
       "      <td>2007</td>\n",
       "    </tr>\n",
       "    <tr>\n",
       "      <th>4</th>\n",
       "      <td>MARy</td>\n",
       "      <td>2008</td>\n",
       "    </tr>\n",
       "  </tbody>\n",
       "</table>\n",
       "</div>"
      ],
      "text/plain": [
       "                  title  year\n",
       "0    Tasveer Mere Sanam  1996\n",
       "1              Only You  1994\n",
       "2  El pueblo del terror  1970\n",
       "3               Machine  2007\n",
       "4                  MARy  2008"
      ]
     },
     "execution_count": 3,
     "metadata": {},
     "output_type": "execute_result"
    }
   ],
   "source": [
    "data1.head()\n"
   ]
  },
  {
   "cell_type": "code",
   "execution_count": 12,
   "metadata": {},
   "outputs": [
    {
     "data": {
      "text/plain": [
       "489828"
      ]
     },
     "execution_count": 12,
     "metadata": {},
     "output_type": "execute_result"
    }
   ],
   "source": [
    "data1.size"
   ]
  },
  {
   "cell_type": "markdown",
   "metadata": {
    "collapsed": true
   },
   "source": [
    "### How many movies are listed in the titles dataframe?"
   ]
  },
  {
   "cell_type": "code",
   "execution_count": 4,
   "metadata": {},
   "outputs": [
    {
     "data": {
      "text/plain": [
       "title    244914\n",
       "year     244914\n",
       "dtype: int64"
      ]
     },
     "execution_count": 4,
     "metadata": {},
     "output_type": "execute_result"
    }
   ],
   "source": [
    "data1.count(axis=0)"
   ]
  },
  {
   "cell_type": "code",
   "execution_count": 7,
   "metadata": {},
   "outputs": [
    {
     "name": "stdout",
     "output_type": "stream",
     "text": [
      "No. of movies listed are:  244914\n"
     ]
    }
   ],
   "source": [
    "a=len(data1.axes[0])\n",
    "print(\"No. of movies listed are: \",a)"
   ]
  },
  {
   "cell_type": "markdown",
   "metadata": {
    "collapsed": true
   },
   "source": [
    "### What are the earliest two films listed in the titles dataframe?"
   ]
  },
  {
   "cell_type": "code",
   "execution_count": 8,
   "metadata": {},
   "outputs": [
    {
     "data": {
      "text/html": [
       "<div>\n",
       "<style scoped>\n",
       "    .dataframe tbody tr th:only-of-type {\n",
       "        vertical-align: middle;\n",
       "    }\n",
       "\n",
       "    .dataframe tbody tr th {\n",
       "        vertical-align: top;\n",
       "    }\n",
       "\n",
       "    .dataframe thead th {\n",
       "        text-align: right;\n",
       "    }\n",
       "</style>\n",
       "<table border=\"1\" class=\"dataframe\">\n",
       "  <thead>\n",
       "    <tr style=\"text-align: right;\">\n",
       "      <th></th>\n",
       "      <th>title</th>\n",
       "      <th>year</th>\n",
       "    </tr>\n",
       "  </thead>\n",
       "  <tbody>\n",
       "    <tr>\n",
       "      <th>193222</th>\n",
       "      <td>Miss Jerry</td>\n",
       "      <td>1894</td>\n",
       "    </tr>\n",
       "    <tr>\n",
       "      <th>51388</th>\n",
       "      <td>The Startled Lover</td>\n",
       "      <td>1898</td>\n",
       "    </tr>\n",
       "  </tbody>\n",
       "</table>\n",
       "</div>"
      ],
      "text/plain": [
       "                     title  year\n",
       "193222          Miss Jerry  1894\n",
       "51388   The Startled Lover  1898"
      ]
     },
     "execution_count": 8,
     "metadata": {},
     "output_type": "execute_result"
    }
   ],
   "source": [
    "data1.sort_values('year').head(2)"
   ]
  },
  {
   "cell_type": "code",
   "execution_count": null,
   "metadata": {
    "collapsed": true
   },
   "outputs": [],
   "source": []
  },
  {
   "cell_type": "markdown",
   "metadata": {
    "collapsed": true
   },
   "source": [
    "### How many movies have the title \"Hamlet\"?"
   ]
  },
  {
   "cell_type": "code",
   "execution_count": 9,
   "metadata": {},
   "outputs": [
    {
     "name": "stdout",
     "output_type": "stream",
     "text": [
      "The no. of movies having title of 'Hamlet' is: 20\n"
     ]
    }
   ],
   "source": [
    "\n",
    "b=len(data1[data1['title'] == 'Hamlet'])\n",
    "print(\"The no. of movies having title of 'Hamlet' is:\",b)"
   ]
  },
  {
   "cell_type": "code",
   "execution_count": 14,
   "metadata": {},
   "outputs": [
    {
     "name": "stdout",
     "output_type": "stream",
     "text": [
      "        title  year\n",
      "6422   Hamlet  2017\n",
      "10637  Hamlet  1921\n"
     ]
    }
   ],
   "source": [
    "\n"
   ]
  },
  {
   "cell_type": "markdown",
   "metadata": {
    "collapsed": true
   },
   "source": [
    "### How many movies are titled \"North by Northwest\"?"
   ]
  },
  {
   "cell_type": "code",
   "execution_count": 11,
   "metadata": {},
   "outputs": [
    {
     "name": "stdout",
     "output_type": "stream",
     "text": [
      "The no. of movies having title of 'North by Northwest' is: 1\n"
     ]
    }
   ],
   "source": [
    "c=len(data1[data1['title'] == 'North by Northwest'])\n",
    "print(\"The no. of movies having title of 'North by Northwest' is:\",c)"
   ]
  },
  {
   "cell_type": "code",
   "execution_count": null,
   "metadata": {
    "collapsed": true
   },
   "outputs": [],
   "source": []
  },
  {
   "cell_type": "markdown",
   "metadata": {
    "collapsed": true
   },
   "source": [
    "### When was the first movie titled \"Hamlet\" made?"
   ]
  },
  {
   "cell_type": "code",
   "execution_count": 19,
   "metadata": {},
   "outputs": [
    {
     "data": {
      "text/html": [
       "<div>\n",
       "<style scoped>\n",
       "    .dataframe tbody tr th:only-of-type {\n",
       "        vertical-align: middle;\n",
       "    }\n",
       "\n",
       "    .dataframe tbody tr th {\n",
       "        vertical-align: top;\n",
       "    }\n",
       "\n",
       "    .dataframe thead th {\n",
       "        text-align: right;\n",
       "    }\n",
       "</style>\n",
       "<table border=\"1\" class=\"dataframe\">\n",
       "  <thead>\n",
       "    <tr style=\"text-align: right;\">\n",
       "      <th></th>\n",
       "      <th>title</th>\n",
       "      <th>year</th>\n",
       "    </tr>\n",
       "  </thead>\n",
       "  <tbody>\n",
       "    <tr>\n",
       "      <th>52521</th>\n",
       "      <td>Hamlet</td>\n",
       "      <td>1910</td>\n",
       "    </tr>\n",
       "  </tbody>\n",
       "</table>\n",
       "</div>"
      ],
      "text/plain": [
       "        title  year\n",
       "52521  Hamlet  1910"
      ]
     },
     "execution_count": 19,
     "metadata": {},
     "output_type": "execute_result"
    }
   ],
   "source": [
    "b=data1[data1['title'] == 'Hamlet'].sort_values('year')\n",
    "c=b.sort_values('year')\n",
    "b.head(1)\n",
    "#b.sort_values(\"year\", axis = 0, ascending = True, inplace = True, na_position ='first') \n",
    "  "
   ]
  },
  {
   "cell_type": "markdown",
   "metadata": {
    "collapsed": true
   },
   "source": [
    "### List all of the \"Treasure Island\" movies from earliest to most recent."
   ]
  },
  {
   "cell_type": "code",
   "execution_count": 20,
   "metadata": {},
   "outputs": [
    {
     "data": {
      "text/html": [
       "<div>\n",
       "<style scoped>\n",
       "    .dataframe tbody tr th:only-of-type {\n",
       "        vertical-align: middle;\n",
       "    }\n",
       "\n",
       "    .dataframe tbody tr th {\n",
       "        vertical-align: top;\n",
       "    }\n",
       "\n",
       "    .dataframe thead th {\n",
       "        text-align: right;\n",
       "    }\n",
       "</style>\n",
       "<table border=\"1\" class=\"dataframe\">\n",
       "  <thead>\n",
       "    <tr style=\"text-align: right;\">\n",
       "      <th></th>\n",
       "      <th>title</th>\n",
       "      <th>year</th>\n",
       "    </tr>\n",
       "  </thead>\n",
       "  <tbody>\n",
       "    <tr>\n",
       "      <th>55686</th>\n",
       "      <td>Treasure Island</td>\n",
       "      <td>1918</td>\n",
       "    </tr>\n",
       "    <tr>\n",
       "      <th>196514</th>\n",
       "      <td>Treasure Island</td>\n",
       "      <td>1920</td>\n",
       "    </tr>\n",
       "    <tr>\n",
       "      <th>141822</th>\n",
       "      <td>Treasure Island</td>\n",
       "      <td>1934</td>\n",
       "    </tr>\n",
       "    <tr>\n",
       "      <th>77354</th>\n",
       "      <td>Treasure Island</td>\n",
       "      <td>1950</td>\n",
       "    </tr>\n",
       "    <tr>\n",
       "      <th>65051</th>\n",
       "      <td>Treasure Island</td>\n",
       "      <td>1972</td>\n",
       "    </tr>\n",
       "    <tr>\n",
       "      <th>37238</th>\n",
       "      <td>Treasure Island</td>\n",
       "      <td>1973</td>\n",
       "    </tr>\n",
       "    <tr>\n",
       "      <th>173051</th>\n",
       "      <td>Treasure Island</td>\n",
       "      <td>1985</td>\n",
       "    </tr>\n",
       "    <tr>\n",
       "      <th>27076</th>\n",
       "      <td>Treasure Island</td>\n",
       "      <td>1999</td>\n",
       "    </tr>\n",
       "  </tbody>\n",
       "</table>\n",
       "</div>"
      ],
      "text/plain": [
       "                  title  year\n",
       "55686   Treasure Island  1918\n",
       "196514  Treasure Island  1920\n",
       "141822  Treasure Island  1934\n",
       "77354   Treasure Island  1950\n",
       "65051   Treasure Island  1972\n",
       "37238   Treasure Island  1973\n",
       "173051  Treasure Island  1985\n",
       "27076   Treasure Island  1999"
      ]
     },
     "execution_count": 20,
     "metadata": {},
     "output_type": "execute_result"
    }
   ],
   "source": [
    "data1[data1['title'] == 'Treasure Island'].sort_values('year')"
   ]
  },
  {
   "cell_type": "markdown",
   "metadata": {
    "collapsed": true
   },
   "source": [
    "### How many movies were made in the year 1950?"
   ]
  },
  {
   "cell_type": "code",
   "execution_count": 23,
   "metadata": {},
   "outputs": [
    {
     "name": "stdout",
     "output_type": "stream",
     "text": [
      "The numbers of movies made in the year 1950 =  0\n"
     ]
    }
   ],
   "source": [
    "d=len(data1[data1['year'] == '1950'])\n",
    "print('The numbers of movies made in the year 1950 = ', d)"
   ]
  },
  {
   "cell_type": "markdown",
   "metadata": {
    "collapsed": true
   },
   "source": [
    "### How many movies were made in the year 1960?"
   ]
  },
  {
   "cell_type": "code",
   "execution_count": 24,
   "metadata": {},
   "outputs": [
    {
     "name": "stdout",
     "output_type": "stream",
     "text": [
      "The numbers of movies made in the year 1950 =  0\n"
     ]
    }
   ],
   "source": [
    "d=len(data1[data1['year'] == '1960'])\n",
    "print('The numbers of movies made in the year 1960 = ', d)"
   ]
  },
  {
   "cell_type": "markdown",
   "metadata": {
    "collapsed": true
   },
   "source": [
    "### How many movies were made from 1950 through 1959?"
   ]
  },
  {
   "cell_type": "markdown",
   "metadata": {},
   "source": []
  },
  {
   "cell_type": "code",
   "execution_count": 32,
   "metadata": {},
   "outputs": [
    {
     "name": "stdout",
     "output_type": "stream",
     "text": [
      "The numbers of movies made from 1950 through 1950 =  12934\n"
     ]
    }
   ],
   "source": [
    "x = data1['year'].between(1950, 1959, inclusive = True)\n",
    "print('The numbers of movies made from 1950 through 1950 = ',len(data1[x]))"
   ]
  },
  {
   "cell_type": "markdown",
   "metadata": {
    "collapsed": true
   },
   "source": [
    "### In what years has a movie titled \"Batman\" been released?"
   ]
  },
  {
   "cell_type": "code",
   "execution_count": 52,
   "metadata": {},
   "outputs": [
    {
     "name": "stdout",
     "output_type": "stream",
     "text": [
      "39349     1943\n",
      "240896    1989\n",
      "Name: year, dtype: int64\n"
     ]
    }
   ],
   "source": [
    "a=data1[data1['title'] == 'Batman']\n",
    "print(a['year'])\n"
   ]
  },
  {
   "cell_type": "markdown",
   "metadata": {
    "collapsed": true
   },
   "source": [
    "### How many roles were there in the movie \"Inception\"?"
   ]
  },
  {
   "cell_type": "code",
   "execution_count": 4,
   "metadata": {},
   "outputs": [
    {
     "name": "stdout",
     "output_type": "stream",
     "text": [
      "The Number of roles in the movie \"Inception\" were =  78\n"
     ]
    }
   ],
   "source": [
    "data2= pd.read_csv('cast.csv')\n",
    "y=len(data2[data2['title'] == 'Inception'])\n",
    "print('The Number of roles in the movie \"Inception\" were = ',y)"
   ]
  },
  {
   "cell_type": "code",
   "execution_count": 18,
   "metadata": {},
   "outputs": [
    {
     "data": {
      "text/html": [
       "<div>\n",
       "<style scoped>\n",
       "    .dataframe tbody tr th:only-of-type {\n",
       "        vertical-align: middle;\n",
       "    }\n",
       "\n",
       "    .dataframe tbody tr th {\n",
       "        vertical-align: top;\n",
       "    }\n",
       "\n",
       "    .dataframe thead th {\n",
       "        text-align: right;\n",
       "    }\n",
       "</style>\n",
       "<table border=\"1\" class=\"dataframe\">\n",
       "  <thead>\n",
       "    <tr style=\"text-align: right;\">\n",
       "      <th></th>\n",
       "      <th>title</th>\n",
       "      <th>year</th>\n",
       "      <th>name</th>\n",
       "      <th>type</th>\n",
       "      <th>character</th>\n",
       "      <th>n</th>\n",
       "    </tr>\n",
       "  </thead>\n",
       "  <tbody>\n",
       "    <tr>\n",
       "      <th>0</th>\n",
       "      <td>Closet Monster</td>\n",
       "      <td>2015</td>\n",
       "      <td>Buffy #1</td>\n",
       "      <td>actor</td>\n",
       "      <td>Buffy 4</td>\n",
       "      <td>31.0</td>\n",
       "    </tr>\n",
       "    <tr>\n",
       "      <th>1</th>\n",
       "      <td>Suuri illusioni</td>\n",
       "      <td>1985</td>\n",
       "      <td>Homo $</td>\n",
       "      <td>actor</td>\n",
       "      <td>Guests</td>\n",
       "      <td>22.0</td>\n",
       "    </tr>\n",
       "    <tr>\n",
       "      <th>2</th>\n",
       "      <td>Battle of the Sexes</td>\n",
       "      <td>2017</td>\n",
       "      <td>$hutter</td>\n",
       "      <td>actor</td>\n",
       "      <td>Bobby Riggs Fan</td>\n",
       "      <td>10.0</td>\n",
       "    </tr>\n",
       "    <tr>\n",
       "      <th>3</th>\n",
       "      <td>Secret in Their Eyes</td>\n",
       "      <td>2015</td>\n",
       "      <td>$hutter</td>\n",
       "      <td>actor</td>\n",
       "      <td>2002 Dodger Fan</td>\n",
       "      <td>NaN</td>\n",
       "    </tr>\n",
       "    <tr>\n",
       "      <th>4</th>\n",
       "      <td>Steve Jobs</td>\n",
       "      <td>2015</td>\n",
       "      <td>$hutter</td>\n",
       "      <td>actor</td>\n",
       "      <td>1988 Opera House Patron</td>\n",
       "      <td>NaN</td>\n",
       "    </tr>\n",
       "  </tbody>\n",
       "</table>\n",
       "</div>"
      ],
      "text/plain": [
       "                  title  year      name   type                character     n\n",
       "0        Closet Monster  2015  Buffy #1  actor                  Buffy 4  31.0\n",
       "1       Suuri illusioni  1985    Homo $  actor                   Guests  22.0\n",
       "2   Battle of the Sexes  2017   $hutter  actor          Bobby Riggs Fan  10.0\n",
       "3  Secret in Their Eyes  2015   $hutter  actor          2002 Dodger Fan   NaN\n",
       "4            Steve Jobs  2015   $hutter  actor  1988 Opera House Patron   NaN"
      ]
     },
     "execution_count": 18,
     "metadata": {},
     "output_type": "execute_result"
    }
   ],
   "source": [
    "data2.head()"
   ]
  },
  {
   "cell_type": "markdown",
   "metadata": {
    "collapsed": true
   },
   "source": [
    "### How many roles in the movie \"Inception\" are NOT ranked by an \"n\" value?"
   ]
  },
  {
   "cell_type": "code",
   "execution_count": 19,
   "metadata": {},
   "outputs": [
    {
     "name": "stdout",
     "output_type": "stream",
     "text": [
      " The numbers of roles in the movie \"Inception\" that are NOT ranked by an \"n\" value =   27\n"
     ]
    }
   ],
   "source": [
    "z=data2[data2['title'] == 'Inception']\n",
    "a=z.isna().sum()\n",
    "print(' The numbers of roles in the movie \"Inception\" that are NOT ranked by an \"n\" value =  ',a['n'])"
   ]
  },
  {
   "cell_type": "code",
   "execution_count": null,
   "metadata": {
    "collapsed": true
   },
   "outputs": [],
   "source": []
  },
  {
   "cell_type": "markdown",
   "metadata": {
    "collapsed": true
   },
   "source": [
    "### But how many roles in the movie \"Inception\" did receive an \"n\" value?"
   ]
  },
  {
   "cell_type": "code",
   "execution_count": 22,
   "metadata": {},
   "outputs": [
    {
     "name": "stdout",
     "output_type": "stream",
     "text": [
      " The numbers of roles in the movie \"Inception\" that did received an\"n\" value =   51\n"
     ]
    }
   ],
   "source": [
    "y=len(data2[data2['title'] == 'Inception'])\n",
    "a=z.isna().sum()\n",
    "c=y-a['n']\n",
    "print(' The numbers of roles in the movie \"Inception\" that did received an\"n\" value =  ', c)"
   ]
  },
  {
   "cell_type": "code",
   "execution_count": 23,
   "metadata": {},
   "outputs": [
    {
     "name": "stdout",
     "output_type": "stream",
     "text": [
      "51\n"
     ]
    }
   ],
   "source": [
    "a=z.notna().sum()\n",
    "print(a['n'])"
   ]
  },
  {
   "cell_type": "markdown",
   "metadata": {
    "collapsed": true
   },
   "source": [
    "### Display the cast of \"North by Northwest\" in their correct \"n\"-value order, ignoring roles that did not earn a numeric \"n\" value."
   ]
  },
  {
   "cell_type": "code",
   "execution_count": 35,
   "metadata": {},
   "outputs": [
    {
     "name": "stdout",
     "output_type": "stream",
     "text": [
      "                      title  year                  name     type  \\\n",
      "871426   North by Northwest  1959            Cary Grant    actor   \n",
      "3518333  North by Northwest  1959       Eva Marie Saint  actress   \n",
      "1457165  North by Northwest  1959           James Mason    actor   \n",
      "3157232  North by Northwest  1959   Jessie Royce Landis  actress   \n",
      "356707   North by Northwest  1959        Leo G. Carroll    actor   \n",
      "3048272  North by Northwest  1959  Josephine Hutchinson  actress   \n",
      "1695173  North by Northwest  1959           Philip Ober    actor   \n",
      "1275337  North by Northwest  1959         Martin Landau    actor   \n",
      "2447081  North by Northwest  1959         Adam Williams    actor   \n",
      "1811387  North by Northwest  1959          Edward Platt    actor   \n",
      "665768   North by Northwest  1959     Robert Ellenstein    actor   \n",
      "2295714  North by Northwest  1959          Les Tremayne    actor   \n",
      "464736   North by Northwest  1959       Philip Coolidge    actor   \n",
      "1508344  North by Northwest  1959         Patrick McVey    actor   \n",
      "206471   North by Northwest  1959          Edward Binns    actor   \n",
      "1384780  North by Northwest  1959             Ken Lynch    actor   \n",
      "\n",
      "                           character     n  \n",
      "871426            Roger O. Thornhill   1.0  \n",
      "3518333                  Eve Kendall   2.0  \n",
      "1457165              Phillip Vandamm   3.0  \n",
      "3157232              Clara Thornhill   4.0  \n",
      "356707                 The Professor   5.0  \n",
      "3048272                Mrs. Townsend   6.0  \n",
      "1695173              Lester Townsend   7.0  \n",
      "1275337                      Leonard   8.0  \n",
      "2447081                     Valerian   9.0  \n",
      "1811387              Victor Larrabee  10.0  \n",
      "665768                         Licht  11.0  \n",
      "2295714                   Auctioneer  12.0  \n",
      "464736                     Dr. Cross  13.0  \n",
      "1508344               Sergeant Flamm  14.0  \n",
      "206471                Captain Junket  15.0  \n",
      "1384780  Charley - Chicago Policeman  16.0  \n"
     ]
    }
   ],
   "source": [
    "y=data2[data2['title'] == 'North by Northwest']\n",
    "x=y.dropna()\n",
    "print(x.sort_values('n'))"
   ]
  },
  {
   "cell_type": "code",
   "execution_count": null,
   "metadata": {},
   "outputs": [],
   "source": []
  },
  {
   "cell_type": "markdown",
   "metadata": {
    "collapsed": true
   },
   "source": [
    "### Display the entire cast, in \"n\"-order, of the 1972 film \"Sleuth\"."
   ]
  },
  {
   "cell_type": "code",
   "execution_count": 66,
   "metadata": {},
   "outputs": [
    {
     "data": {
      "text/html": [
       "<div>\n",
       "<style scoped>\n",
       "    .dataframe tbody tr th:only-of-type {\n",
       "        vertical-align: middle;\n",
       "    }\n",
       "\n",
       "    .dataframe tbody tr th {\n",
       "        vertical-align: top;\n",
       "    }\n",
       "\n",
       "    .dataframe thead th {\n",
       "        text-align: right;\n",
       "    }\n",
       "</style>\n",
       "<table border=\"1\" class=\"dataframe\">\n",
       "  <thead>\n",
       "    <tr style=\"text-align: right;\">\n",
       "      <th></th>\n",
       "      <th>title</th>\n",
       "      <th>year</th>\n",
       "      <th>name</th>\n",
       "      <th>type</th>\n",
       "      <th>character</th>\n",
       "      <th>n</th>\n",
       "    </tr>\n",
       "  </thead>\n",
       "  <tbody>\n",
       "    <tr>\n",
       "      <th>1705394</th>\n",
       "      <td>Sleuth</td>\n",
       "      <td>1972</td>\n",
       "      <td>Laurence Olivier</td>\n",
       "      <td>actor</td>\n",
       "      <td>Andrew Wyke</td>\n",
       "      <td>1.0</td>\n",
       "    </tr>\n",
       "    <tr>\n",
       "      <th>326773</th>\n",
       "      <td>Sleuth</td>\n",
       "      <td>1972</td>\n",
       "      <td>Michael Caine</td>\n",
       "      <td>actor</td>\n",
       "      <td>Milo Tindle</td>\n",
       "      <td>2.0</td>\n",
       "    </tr>\n",
       "    <tr>\n",
       "      <th>373876</th>\n",
       "      <td>Sleuth</td>\n",
       "      <td>1972</td>\n",
       "      <td>Alec Cawthorne</td>\n",
       "      <td>actor</td>\n",
       "      <td>Inspector Doppler</td>\n",
       "      <td>3.0</td>\n",
       "    </tr>\n",
       "    <tr>\n",
       "      <th>1465483</th>\n",
       "      <td>Sleuth</td>\n",
       "      <td>1972</td>\n",
       "      <td>John (II) Matthews</td>\n",
       "      <td>actor</td>\n",
       "      <td>Detective Sergeant Tarrant</td>\n",
       "      <td>4.0</td>\n",
       "    </tr>\n",
       "    <tr>\n",
       "      <th>2724553</th>\n",
       "      <td>Sleuth</td>\n",
       "      <td>1972</td>\n",
       "      <td>Eve (III) Channing</td>\n",
       "      <td>actress</td>\n",
       "      <td>Marguerite Wyke</td>\n",
       "      <td>5.0</td>\n",
       "    </tr>\n",
       "    <tr>\n",
       "      <th>1448690</th>\n",
       "      <td>Sleuth</td>\n",
       "      <td>1972</td>\n",
       "      <td>Teddy Martin</td>\n",
       "      <td>actor</td>\n",
       "      <td>Police Constable Higgs</td>\n",
       "      <td>6.0</td>\n",
       "    </tr>\n",
       "  </tbody>\n",
       "</table>\n",
       "</div>"
      ],
      "text/plain": [
       "          title  year                name     type  \\\n",
       "1705394  Sleuth  1972    Laurence Olivier    actor   \n",
       "326773   Sleuth  1972       Michael Caine    actor   \n",
       "373876   Sleuth  1972      Alec Cawthorne    actor   \n",
       "1465483  Sleuth  1972  John (II) Matthews    actor   \n",
       "2724553  Sleuth  1972  Eve (III) Channing  actress   \n",
       "1448690  Sleuth  1972        Teddy Martin    actor   \n",
       "\n",
       "                          character    n  \n",
       "1705394                 Andrew Wyke  1.0  \n",
       "326773                  Milo Tindle  2.0  \n",
       "373876            Inspector Doppler  3.0  \n",
       "1465483  Detective Sergeant Tarrant  4.0  \n",
       "2724553             Marguerite Wyke  5.0  \n",
       "1448690      Police Constable Higgs  6.0  "
      ]
     },
     "execution_count": 66,
     "metadata": {},
     "output_type": "execute_result"
    }
   ],
   "source": [
    "x=data2[data2['title'] == 'Sleuth' ] \n",
    "x[x['year'] == 1972].sort_values('n')"
   ]
  },
  {
   "cell_type": "code",
   "execution_count": null,
   "metadata": {},
   "outputs": [],
   "source": []
  },
  {
   "cell_type": "markdown",
   "metadata": {
    "collapsed": true
   },
   "source": [
    "### Now display the entire cast, in \"n\"-order, of the 2007 version of \"Sleuth\"."
   ]
  },
  {
   "cell_type": "code",
   "execution_count": 65,
   "metadata": {},
   "outputs": [
    {
     "data": {
      "text/html": [
       "<div>\n",
       "<style scoped>\n",
       "    .dataframe tbody tr th:only-of-type {\n",
       "        vertical-align: middle;\n",
       "    }\n",
       "\n",
       "    .dataframe tbody tr th {\n",
       "        vertical-align: top;\n",
       "    }\n",
       "\n",
       "    .dataframe thead th {\n",
       "        text-align: right;\n",
       "    }\n",
       "</style>\n",
       "<table border=\"1\" class=\"dataframe\">\n",
       "  <thead>\n",
       "    <tr style=\"text-align: right;\">\n",
       "      <th></th>\n",
       "      <th>title</th>\n",
       "      <th>year</th>\n",
       "      <th>name</th>\n",
       "      <th>type</th>\n",
       "      <th>character</th>\n",
       "      <th>n</th>\n",
       "    </tr>\n",
       "  </thead>\n",
       "  <tbody>\n",
       "    <tr>\n",
       "      <th>326774</th>\n",
       "      <td>Sleuth</td>\n",
       "      <td>2007</td>\n",
       "      <td>Michael Caine</td>\n",
       "      <td>actor</td>\n",
       "      <td>Andrew</td>\n",
       "      <td>1.0</td>\n",
       "    </tr>\n",
       "    <tr>\n",
       "      <th>1293634</th>\n",
       "      <td>Sleuth</td>\n",
       "      <td>2007</td>\n",
       "      <td>Jude Law</td>\n",
       "      <td>actor</td>\n",
       "      <td>Milo</td>\n",
       "      <td>2.0</td>\n",
       "    </tr>\n",
       "    <tr>\n",
       "      <th>1805907</th>\n",
       "      <td>Sleuth</td>\n",
       "      <td>2007</td>\n",
       "      <td>Harold Pinter</td>\n",
       "      <td>actor</td>\n",
       "      <td>Man on T.V.</td>\n",
       "      <td>3.0</td>\n",
       "    </tr>\n",
       "    <tr>\n",
       "      <th>260242</th>\n",
       "      <td>Sleuth</td>\n",
       "      <td>2007</td>\n",
       "      <td>Kenneth Branagh</td>\n",
       "      <td>actor</td>\n",
       "      <td>Other Man on T.V.</td>\n",
       "      <td>NaN</td>\n",
       "    </tr>\n",
       "    <tr>\n",
       "      <th>373877</th>\n",
       "      <td>Sleuth</td>\n",
       "      <td>2007</td>\n",
       "      <td>Alec (II) Cawthorne</td>\n",
       "      <td>actor</td>\n",
       "      <td>Inspector Doppler</td>\n",
       "      <td>NaN</td>\n",
       "    </tr>\n",
       "    <tr>\n",
       "      <th>2724552</th>\n",
       "      <td>Sleuth</td>\n",
       "      <td>2007</td>\n",
       "      <td>Eve (II) Channing</td>\n",
       "      <td>actress</td>\n",
       "      <td>Marguerite Wyke</td>\n",
       "      <td>NaN</td>\n",
       "    </tr>\n",
       "    <tr>\n",
       "      <th>3370424</th>\n",
       "      <td>Sleuth</td>\n",
       "      <td>2007</td>\n",
       "      <td>Carmel O'Sullivan</td>\n",
       "      <td>actress</td>\n",
       "      <td>Maggie</td>\n",
       "      <td>NaN</td>\n",
       "    </tr>\n",
       "  </tbody>\n",
       "</table>\n",
       "</div>"
      ],
      "text/plain": [
       "          title  year                 name     type          character    n\n",
       "326774   Sleuth  2007        Michael Caine    actor             Andrew  1.0\n",
       "1293634  Sleuth  2007             Jude Law    actor               Milo  2.0\n",
       "1805907  Sleuth  2007        Harold Pinter    actor        Man on T.V.  3.0\n",
       "260242   Sleuth  2007      Kenneth Branagh    actor  Other Man on T.V.  NaN\n",
       "373877   Sleuth  2007  Alec (II) Cawthorne    actor  Inspector Doppler  NaN\n",
       "2724552  Sleuth  2007    Eve (II) Channing  actress    Marguerite Wyke  NaN\n",
       "3370424  Sleuth  2007    Carmel O'Sullivan  actress             Maggie  NaN"
      ]
     },
     "execution_count": 65,
     "metadata": {},
     "output_type": "execute_result"
    }
   ],
   "source": [
    "y=data2[data2['title'] == 'Sleuth' ] \n",
    "y[y['year'] == 2007].sort_values('n')"
   ]
  },
  {
   "cell_type": "code",
   "execution_count": null,
   "metadata": {
    "collapsed": true
   },
   "outputs": [],
   "source": []
  },
  {
   "cell_type": "markdown",
   "metadata": {
    "collapsed": true
   },
   "source": [
    "### How many roles were credited in the silent 1921 version of Hamlet?"
   ]
  },
  {
   "cell_type": "code",
   "execution_count": 69,
   "metadata": {},
   "outputs": [
    {
     "name": "stdout",
     "output_type": "stream",
     "text": [
      "The roles were credited in the silent 1921 version of Hamlet = 9\n"
     ]
    }
   ],
   "source": [
    "x=data2[data2['title'] == 'Hamlet' ]\n",
    "y=x[x['year'] == 1921]\n",
    "print('The roles were credited in the silent 1921 version of Hamlet =',len(y))"
   ]
  },
  {
   "cell_type": "code",
   "execution_count": 70,
   "metadata": {},
   "outputs": [
    {
     "name": "stdout",
     "output_type": "stream",
     "text": [
      "          title  year                    name     type         character    n\n",
      "7789     Hamlet  1921        Fritz Achterberg    actor       Fortinbras,  9.0\n",
      "458904   Hamlet  1921            Paul Conradi    actor      K?nig Hamlet  2.0\n",
      "555034   Hamlet  1921        Anton De Verdier    actor           Laertes  7.0\n",
      "1135279  Hamlet  1921         Hans Junkermann    actor          Polonius  6.0\n",
      "2185558  Hamlet  1921            Heinz Stieda    actor           Horatio  5.0\n",
      "2375993  Hamlet  1921  Eduard von Winterstein    actor          Claudius  4.0\n",
      "2664423  Hamlet  1921         Mathilde Brandt  actress  K?nigin Gertrude  3.0\n",
      "3062023  Hamlet  1921          Lilly Jacobson  actress           Ophelia  8.0\n",
      "3355176  Hamlet  1921            Asta Nielsen  actress            Hamlet  1.0\n"
     ]
    }
   ],
   "source": [
    "print(y)"
   ]
  },
  {
   "cell_type": "markdown",
   "metadata": {
    "collapsed": true
   },
   "source": [
    "### How many roles were credited in Branagh’s 1996 Hamlet?"
   ]
  },
  {
   "cell_type": "code",
   "execution_count": 72,
   "metadata": {},
   "outputs": [
    {
     "name": "stdout",
     "output_type": "stream",
     "text": [
      "The roles were credited in the Branagh’s 1996 version of Hamlet = 54\n"
     ]
    }
   ],
   "source": [
    "x=data2[data2['title'] == 'Hamlet' ]\n",
    "y=x[x['year'] == 1996]\n",
    "print('The roles were credited in the Branagh’s 1996 version of Hamlet =',len(y))"
   ]
  },
  {
   "cell_type": "code",
   "execution_count": 73,
   "metadata": {},
   "outputs": [
    {
     "name": "stdout",
     "output_type": "stream",
     "text": [
      "          title  year                    name     type  \\\n",
      "1731     Hamlet  1996              Riz Abbasi    actor   \n",
      "95861    Hamlet  1996    Richard Attenborough    actor   \n",
      "158642   Hamlet  1996     Simon Russell Beale    actor   \n",
      "214473   Hamlet  1996         David (V) Blair    actor   \n",
      "219554   Hamlet  1996           Brian Blessed    actor   \n",
      "250773   Hamlet  1996      Christopher Bowles    actor   \n",
      "260225   Hamlet  1996         Kenneth Branagh    actor   \n",
      "272749   Hamlet  1996          Richard Briers    actor   \n",
      "294652   Hamlet  1996          Michael Bryant    actor   \n",
      "319501   Hamlet  1996            Peter Bygott    actor   \n",
      "344365   Hamlet  1996       Kenneth W Caravan    actor   \n",
      "500916   Hamlet  1996           Billy Crystal    actor   \n",
      "518572   Hamlet  1996           Charles Daish    actor   \n",
      "576147   Hamlet  1996        G?rard Depardieu    actor   \n",
      "598618   Hamlet  1996          Reece Dinsdale    actor   \n",
      "604339   Hamlet  1996                Ken Dodd    actor   \n",
      "656817   Hamlet  1996             Rob Edwards    actor   \n",
      "669232   Hamlet  1996             Jimmy Ellis    actor   \n",
      "704270   Hamlet  1996        Nicholas Farrell    actor   \n",
      "708468   Hamlet  1996              Ray Fearon    actor   \n",
      "827066   Hamlet  1996            John Gielgud    actor   \n",
      "990819   Hamlet  1996         Charlton Heston    actor   \n",
      "1074691  Hamlet  1996           Ravil Isyanov    actor   \n",
      "1082161  Hamlet  1996            Derek Jacobi    actor   \n",
      "1210509  Hamlet  1996         Jeffery Kissoon    actor   \n",
      "1316617  Hamlet  1996             Jack Lemmon    actor   \n",
      "1400732  Hamlet  1996       Anthony Maddalena    actor   \n",
      "1417360  Hamlet  1996         Michael Maloney    actor   \n",
      "1489191  Hamlet  1996          Ian McElhinney    actor   \n",
      "1549128  Hamlet  1996              John Mills    actor   \n",
      "1556082  Hamlet  1996             Jimi Mistry    actor   \n",
      "1588218  Hamlet  1996       Frank (II) Morgan    actor   \n",
      "2040040  Hamlet  1996        Andrew Schofield    actor   \n",
      "2052796  Hamlet  1996           Orlando Seale    actor   \n",
      "2067657  Hamlet  1996            Rufus Sewell    actor   \n",
      "2151526  Hamlet  1996           Timothy Spall    actor   \n",
      "2154960  Hamlet  1996  John Spencer-Churchill    actor   \n",
      "2221910  Hamlet  1996         Thomas Szekeres    actor   \n",
      "2259675  Hamlet  1996                Ben Thom    actor   \n",
      "2404091  Hamlet  1996          Don Warrington    actor   \n",
      "2453099  Hamlet  1996          Robin Williams    actor   \n",
      "2500066  Hamlet  1996               David Yip    actor   \n",
      "2508377  Hamlet  1996             Jimmy Yuill    actor   \n",
      "2737885  Hamlet  1996          Julie Christie  actress   \n",
      "2814220  Hamlet  1996              Judi Dench  actress   \n",
      "2835947  Hamlet  1996          Angela Douglas  actress   \n",
      "2940033  Hamlet  1996           Yvonne Gidden  actress   \n",
      "2999610  Hamlet  1996         Rosemary Harris  actress   \n",
      "3119901  Hamlet  1996             Rowena King  actress   \n",
      "3154270  Hamlet  1996               Sarah Lam  actress   \n",
      "3451003  Hamlet  1996           Sian Radinger  actress   \n",
      "3456114  Hamlet  1996          Melanie Ramsay  actress   \n",
      "3728751  Hamlet  1996           Perdita Weeks  actress   \n",
      "3751232  Hamlet  1996            Kate Winslet  actress   \n",
      "\n",
      "                        character     n  \n",
      "1731        Attendant to Claudius   1.0  \n",
      "95861          English Ambassador   2.0  \n",
      "158642         Second Gravedigger  37.0  \n",
      "214473      Attendant to Claudius   3.0  \n",
      "219554   Ghost of Hamlet's Father   4.0  \n",
      "250773              Cadet in Play   NaN  \n",
      "260225                     Hamlet   5.0  \n",
      "272749                   Polonius   6.0  \n",
      "294652                     Priest   7.0  \n",
      "319501      Attendant to Claudius   8.0  \n",
      "344365                Laertes Mob   NaN  \n",
      "500916          First Gravedigger  10.0  \n",
      "518572              Stage Manager  11.0  \n",
      "576147                   Reynaldo  13.0  \n",
      "598618               Guildenstern  14.0  \n",
      "604339                     Yorick  15.0  \n",
      "656817                   Lucianus  17.0  \n",
      "669232             Old Fortinbras   NaN  \n",
      "704270                    Horatio  18.0  \n",
      "708468                  Francisco  19.0  \n",
      "827066                      Priam  21.0  \n",
      "990819                Player King  23.0  \n",
      "1074691                 Cornelius  24.0  \n",
      "1082161                  Claudius  25.0  \n",
      "1210509      Fortinbras's Captain  27.0  \n",
      "1316617                 Marcellus  29.0  \n",
      "1400732         Elsinore Courtier   NaN  \n",
      "1417360                   Laertes  31.0  \n",
      "1489191                  Barnardo  30.0  \n",
      "1549128                Old Norway  33.0  \n",
      "1556082                Sailor Two  34.0  \n",
      "1588218                   Pyrrhus   NaN  \n",
      "2040040                Young Lord  38.0  \n",
      "2052796                   Boatman   NaN  \n",
      "2067657                Fortinbras  39.0  \n",
      "2151526               Rosencrantz  40.0  \n",
      "2154960      Fortinbras's Captain  32.0  \n",
      "2221910              Young Hamlet  41.0  \n",
      "2259675              First Player  42.0  \n",
      "2404091                 Voltimand  43.0  \n",
      "2453099                     Osric  45.0  \n",
      "2500066                Sailor One  47.0  \n",
      "2508377                 Alexander   NaN  \n",
      "2737885                  Gertrude   9.0  \n",
      "2814220                    Hecuba  12.0  \n",
      "2835947     Attendant to Gertrude  16.0  \n",
      "2940033                    Doctor  20.0  \n",
      "2999610              Player Queen  22.0  \n",
      "3119901     Attendant to Gertrude  26.0  \n",
      "3154270     Attendant to Gertrude  28.0  \n",
      "3451003                  Prologue  35.0  \n",
      "3456114                Prostitute   NaN  \n",
      "3728751             Second Player  44.0  \n",
      "3751232                   Ophelia  46.0  \n"
     ]
    }
   ],
   "source": [
    "print(y)"
   ]
  },
  {
   "cell_type": "markdown",
   "metadata": {
    "collapsed": true
   },
   "source": [
    "### How many \"Hamlet\" roles have been listed in all film credits through history?"
   ]
  },
  {
   "cell_type": "code",
   "execution_count": 74,
   "metadata": {},
   "outputs": [
    {
     "name": "stdout",
     "output_type": "stream",
     "text": [
      "The no. of  \"Hamlet\" roles have been listed in all film credits through history =  342\n"
     ]
    }
   ],
   "source": [
    "x=data2[data2['title'] == 'Hamlet' ]\n",
    "print('The no. of  \"Hamlet\" roles have been listed in all film credits through history = ',len(x))"
   ]
  },
  {
   "cell_type": "code",
   "execution_count": 75,
   "metadata": {},
   "outputs": [
    {
     "name": "stdout",
     "output_type": "stream",
     "text": [
      "          title  year              name     type              character     n\n",
      "1731     Hamlet  1996        Riz Abbasi    actor  Attendant to Claudius   1.0\n",
      "7789     Hamlet  1921  Fritz Achterberg    actor            Fortinbras,   9.0\n",
      "11728    Hamlet  2009      Hayden Adams    actor                Laertes   7.0\n",
      "11729    Hamlet  2009      Hayden Adams    actor                 Player   7.0\n",
      "14493    Hamlet  1913       Eric Adeney    actor               Reynaldo  14.0\n",
      "...         ...   ...               ...      ...                    ...   ...\n",
      "3673234  Hamlet  1969    Jennifer Tudor  actress             Court lady  23.0\n",
      "3697397  Hamlet  2000      Diane Venora  actress               Gertrude   3.0\n",
      "3728751  Hamlet  1996     Perdita Weeks  actress          Second Player  44.0\n",
      "3733637  Hamlet  2015   Katie (II) West  actress                Ophelia   7.0\n",
      "3751232  Hamlet  1996      Kate Winslet  actress                Ophelia  46.0\n",
      "\n",
      "[342 rows x 6 columns]\n"
     ]
    }
   ],
   "source": [
    "print(x)"
   ]
  },
  {
   "cell_type": "markdown",
   "metadata": {
    "collapsed": true
   },
   "source": [
    "### How many people have played an \"Ophelia\"?"
   ]
  },
  {
   "cell_type": "code",
   "execution_count": 84,
   "metadata": {},
   "outputs": [
    {
     "name": "stdout",
     "output_type": "stream",
     "text": [
      "The numbers of peopel have palyed an\"Ophelia\" =   117\n",
      "                                                     title  year  \\\n",
      "248251                          The Merry Maids of Madness  2016   \n",
      "410247                                      Jake Gets Paid  2009   \n",
      "470859                                          Inoperable  2017   \n",
      "866334                     Dogg's Hamlet, Cahoot's Macbeth  2005   \n",
      "1364457                                                 11  2014   \n",
      "...                                                    ...   ...   \n",
      "3722298                                           D.C. Cab  1983   \n",
      "3723039                                           Creature  2011   \n",
      "3733637                                             Hamlet  2015   \n",
      "3748118  National Theatre Live: Rosencrantz & Guildenst...  2017   \n",
      "3751232                                             Hamlet  1996   \n",
      "\n",
      "                         name     type character     n  \n",
      "248251            Amy Bourque    actor   Ophelia  11.0  \n",
      "410247         Josie Chisholm    actor   Ophelia   NaN  \n",
      "470859        Crystal Cordero    actor   Ophelia   NaN  \n",
      "866334          Lucas Grabeel    actor   Ophelia   NaN  \n",
      "1364457   Catherine (IV) Lord    actor   Ophelia   NaN  \n",
      "...                       ...      ...       ...   ...  \n",
      "3722298       Marsha Warfield  actress   Ophelia   7.0  \n",
      "3723039  Jennifer Lynn Warren  actress   Ophelia  12.0  \n",
      "3733637       Katie (II) West  actress   Ophelia   7.0  \n",
      "3748118     Helen (IV) Wilson  actress   Ophelia   NaN  \n",
      "3751232          Kate Winslet  actress   Ophelia  46.0  \n",
      "\n",
      "[117 rows x 6 columns]\n"
     ]
    }
   ],
   "source": [
    "x=data2[data2['character'] == 'Ophelia' ]\n",
    "print('The numbers of peopel have palyed an\"Ophelia\" =  ',len(x))\n",
    "print(x)"
   ]
  },
  {
   "cell_type": "code",
   "execution_count": null,
   "metadata": {
    "collapsed": true
   },
   "outputs": [],
   "source": [
    "0"
   ]
  },
  {
   "cell_type": "markdown",
   "metadata": {
    "collapsed": true
   },
   "source": [
    "### How many people have played a role called \"The Dude\"?"
   ]
  },
  {
   "cell_type": "code",
   "execution_count": 82,
   "metadata": {},
   "outputs": [
    {
     "name": "stdout",
     "output_type": "stream",
     "text": [
      "The numbers of people have palyed a role called \"The Dude\" =   19\n"
     ]
    }
   ],
   "source": [
    "z=data2[data2['character'] == 'The Dude' ]\n",
    "print('The numbers of people have palyed a role called \"The Dude\" =  ',len(z))"
   ]
  },
  {
   "cell_type": "code",
   "execution_count": null,
   "metadata": {
    "collapsed": true
   },
   "outputs": [],
   "source": []
  },
  {
   "cell_type": "markdown",
   "metadata": {
    "collapsed": true
   },
   "source": [
    "### How many people have played a role called \"The Stranger\"?"
   ]
  },
  {
   "cell_type": "code",
   "execution_count": 109,
   "metadata": {},
   "outputs": [
    {
     "name": "stdout",
     "output_type": "stream",
     "text": [
      "The numbers of people have played a role called \"The Stranger\"=  202\n"
     ]
    }
   ],
   "source": [
    "y=data2[data2['character'] == 'The Stranger' ]\n",
    "\n",
    "x=y.drop_duplicates(subset=['name'])\n",
    "\n",
    "b=a=len(x.axes[0])\n",
    "\n",
    "print('The numbers of people have played a role called \"The Stranger\"= ',b)"
   ]
  },
  {
   "cell_type": "code",
   "execution_count": null,
   "metadata": {},
   "outputs": [],
   "source": []
  },
  {
   "cell_type": "markdown",
   "metadata": {
    "collapsed": true
   },
   "source": [
    "### How many roles has Sidney Poitier played throughout his career?"
   ]
  },
  {
   "cell_type": "code",
   "execution_count": 8,
   "metadata": {},
   "outputs": [
    {
     "name": "stdout",
     "output_type": "stream",
     "text": [
      "The numbers of roles Sidney Poitier has played throughout his career =  43\n"
     ]
    }
   ],
   "source": [
    "y=data2[data2['name'] == 'Sidney Poitier' ]\n",
    "print('The numbers of roles Sidney Poitier has played throughout his career = ',len(y))"
   ]
  },
  {
   "cell_type": "code",
   "execution_count": null,
   "metadata": {
    "collapsed": true
   },
   "outputs": [],
   "source": []
  },
  {
   "cell_type": "markdown",
   "metadata": {
    "collapsed": true
   },
   "source": [
    "### How many roles has Judi Dench played?"
   ]
  },
  {
   "cell_type": "code",
   "execution_count": 9,
   "metadata": {},
   "outputs": [
    {
     "name": "stdout",
     "output_type": "stream",
     "text": [
      "The numbers of roles Judi Dench has played throughout his career =  55\n"
     ]
    }
   ],
   "source": [
    "y=data2[data2['name'] == 'Judi Dench' ]\n",
    "print('The numbers of roles Judi Dench has played throughout his career = ',len(y))"
   ]
  },
  {
   "cell_type": "code",
   "execution_count": null,
   "metadata": {
    "collapsed": true
   },
   "outputs": [],
   "source": []
  },
  {
   "cell_type": "markdown",
   "metadata": {
    "collapsed": true
   },
   "source": [
    "### List the supporting roles (having n=2) played by Cary Grant in the 1940s, in order by year."
   ]
  },
  {
   "cell_type": "code",
   "execution_count": 12,
   "metadata": {},
   "outputs": [
    {
     "name": "stdout",
     "output_type": "stream",
     "text": [
      "                   title  year        name   type   character    n\n",
      "871423  My Favorite Wife  1940  Cary Grant  actor  Nick Arden  2.0\n"
     ]
    }
   ],
   "source": [
    "y=data2[data2['name'] == 'Cary Grant' ]\n",
    "x=y[y['year'] == 1940 ]\n",
    "z=x[x['n'] == 2 ]\n",
    "print(z)"
   ]
  },
  {
   "cell_type": "code",
   "execution_count": null,
   "metadata": {
    "collapsed": true
   },
   "outputs": [],
   "source": []
  },
  {
   "cell_type": "markdown",
   "metadata": {
    "collapsed": true
   },
   "source": [
    "### List the leading roles that Cary Grant played in the 1940s in order by year."
   ]
  },
  {
   "cell_type": "code",
   "execution_count": 13,
   "metadata": {},
   "outputs": [
    {
     "name": "stdout",
     "output_type": "stream",
     "text": [
      "                          title  year        name   type           character  \\\n",
      "871407          His Girl Friday  1940  Cary Grant  actor        Walter Burns   \n",
      "871423         My Favorite Wife  1940  Cary Grant  actor          Nick Arden   \n",
      "871448  The Howards of Virginia  1940  Cary Grant  actor         Matt Howard   \n",
      "871450   The Philadelphia Story  1940  Cary Grant  actor  C. K. Dexter Haven   \n",
      "\n",
      "          n  \n",
      "871407  1.0  \n",
      "871423  2.0  \n",
      "871448  1.0  \n",
      "871450  1.0  \n"
     ]
    }
   ],
   "source": [
    "y=data2[data2['name'] == 'Cary Grant' ]\n",
    "x=y[y['year'] == 1940 ]\n",
    "print(x)"
   ]
  },
  {
   "cell_type": "code",
   "execution_count": null,
   "metadata": {
    "collapsed": true
   },
   "outputs": [],
   "source": []
  },
  {
   "cell_type": "markdown",
   "metadata": {
    "collapsed": true
   },
   "source": [
    "### How many roles were available for actors in the 1950s?"
   ]
  },
  {
   "cell_type": "code",
   "execution_count": 19,
   "metadata": {},
   "outputs": [
    {
     "name": "stdout",
     "output_type": "stream",
     "text": [
      "22397\n"
     ]
    }
   ],
   "source": [
    "y=data2[data2['year'] == 1950 ]\n",
    "x=len(y['character'])\n",
    "print(x)"
   ]
  },
  {
   "cell_type": "code",
   "execution_count": null,
   "metadata": {
    "collapsed": true
   },
   "outputs": [],
   "source": []
  },
  {
   "cell_type": "markdown",
   "metadata": {
    "collapsed": true
   },
   "source": [
    "### How many roles were available for actresses in the 1950s?"
   ]
  },
  {
   "cell_type": "code",
   "execution_count": 21,
   "metadata": {},
   "outputs": [
    {
     "name": "stdout",
     "output_type": "stream",
     "text": [
      "The numbers of roles were available for actresses in the 1950 =   5637\n"
     ]
    }
   ],
   "source": [
    "y=data2[data2['year'] == 1950 ]\n",
    "x=y[y['type'] == 'actress']\n",
    "print('The numbers of roles were available for actresses in the 1950 =  ',len(x))"
   ]
  },
  {
   "cell_type": "code",
   "execution_count": null,
   "metadata": {
    "collapsed": true
   },
   "outputs": [],
   "source": []
  },
  {
   "cell_type": "markdown",
   "metadata": {
    "collapsed": true
   },
   "source": [
    "### How many leading roles (n=1) were available from the beginning of film history through 1980?"
   ]
  },
  {
   "cell_type": "code",
   "execution_count": 25,
   "metadata": {},
   "outputs": [
    {
     "name": "stdout",
     "output_type": "stream",
     "text": [
      "1183\n",
      "                                     title  year                 name  \\\n",
      "1293                         Il pap'occhio  1980    Diego Abatantuono   \n",
      "1452               Athkiya' laken aghbiya'  1980         Rushdy Abaza   \n",
      "2543                     El Banat Ayza Eih  1980   Mahmoud Abdel Aziz   \n",
      "2558                 X Ma'anah Alamt Khata  1980   Mahmoud Abdel Aziz   \n",
      "2971                             Airplane!  1980  Kareem Abdul-Jabbar   \n",
      "...                                    ...   ...                  ...   \n",
      "3773192                      Majimak milae  1980             Ji-in Yu   \n",
      "3774562               Aduh aduh mana tahan  1980          Diana Yusuf   \n",
      "3779853                      Huang Ying Gu  1980        Jinling Zhang   \n",
      "3785490    Jokosei: natsu hiraku kuchiburu  1980            Ayako ?ta   \n",
      "3785492  Kairaku gakuen: Kinjirareta asobi  1980            Ayako ?ta   \n",
      "\n",
      "            type        character    n  \n",
      "1293       actor   Padre Gabriele  1.0  \n",
      "1452       actor            Hamdi  1.0  \n",
      "2543       actor            Kamal  1.0  \n",
      "2558       actor            Ramzy  1.0  \n",
      "2971       actor    Roger Murdock  1.0  \n",
      "...          ...              ...  ...  \n",
      "3773192  actress  Oh Yeong-kyeong  1.0  \n",
      "3774562  actress            Diana  1.0  \n",
      "3779853  actress     Yinggu Huang  1.0  \n",
      "3785490  actress     Sh?ko Yazaki  1.0  \n",
      "3785492  actress   Sachiko Suzuki  1.0  \n",
      "\n",
      "[1183 rows x 6 columns]\n"
     ]
    }
   ],
   "source": [
    "x=data2[data2['year'] == 1980 ]\n",
    "z=x[x['n'] == 1 ]\n",
    "print(len(z))\n",
    "print(z)"
   ]
  },
  {
   "cell_type": "code",
   "execution_count": null,
   "metadata": {
    "collapsed": true
   },
   "outputs": [],
   "source": []
  },
  {
   "cell_type": "markdown",
   "metadata": {
    "collapsed": true
   },
   "source": [
    "### How many non-leading roles were available through from the beginning of film history through 1980?"
   ]
  },
  {
   "cell_type": "code",
   "execution_count": null,
   "metadata": {
    "collapsed": true
   },
   "outputs": [],
   "source": []
  },
  {
   "cell_type": "code",
   "execution_count": null,
   "metadata": {
    "collapsed": true
   },
   "outputs": [],
   "source": []
  },
  {
   "cell_type": "markdown",
   "metadata": {
    "collapsed": true
   },
   "source": [
    "### How many roles through 1980 were minor enough that they did not warrant a numeric \"n\" rank?"
   ]
  },
  {
   "cell_type": "code",
   "execution_count": 33,
   "metadata": {},
   "outputs": [
    {
     "name": "stdout",
     "output_type": "stream",
     "text": [
      "The numbers of roles through 1980 were minor enough that they did not warrant a numeric \"n\" rank =  23472\n"
     ]
    }
   ],
   "source": [
    "x=data2[data2['year'] == 1980 ]\n",
    "a=len(x.isna())\n",
    "print('The numbers of roles through 1980 were minor enough that they did not warrant a numeric \"n\" rank = ',a)"
   ]
  },
  {
   "cell_type": "code",
   "execution_count": null,
   "metadata": {
    "collapsed": true
   },
   "outputs": [],
   "source": []
  }
 ],
 "metadata": {
  "kernelspec": {
   "display_name": "Python 3",
   "language": "python",
   "name": "python3"
  },
  "language_info": {
   "codemirror_mode": {
    "name": "ipython",
    "version": 3
   },
   "file_extension": ".py",
   "mimetype": "text/x-python",
   "name": "python",
   "nbconvert_exporter": "python",
   "pygments_lexer": "ipython3",
   "version": "3.7.6"
  }
 },
 "nbformat": 4,
 "nbformat_minor": 1
}
