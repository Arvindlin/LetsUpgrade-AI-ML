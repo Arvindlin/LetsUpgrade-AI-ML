{
 "cells": [
  {
   "cell_type": "code",
   "execution_count": 45,
   "metadata": {},
   "outputs": [
    {
     "name": "stdout",
     "output_type": "stream",
     "text": [
      "3\n",
      "5\n",
      "7\n",
      "11\n",
      "13\n",
      "17\n",
      "19\n"
     ]
    }
   ],
   "source": [
    "#Question 1 :Write a Python program to find the first 20 non-even prime natural numbers.\n",
    "for n in range(1, 21, 1): \n",
    "  \n",
    "       \n",
    "        if (n == 1 or n == 0 or n%2==0): \n",
    "            continue; \n",
    "        flag = 1; \n",
    "  \n",
    "        for i in range(2, n , 1): \n",
    "            if (n % i == 0): \n",
    "                flag = 0; \n",
    "                break; \n",
    "   \n",
    "        if (flag == 1): \n",
    "            print(n); \n",
    "                "
   ]
  },
  {
   "cell_type": "code",
   "execution_count": 31,
   "metadata": {},
   "outputs": [
    {
     "name": "stdout",
     "output_type": "stream",
     "text": [
      " my name is arvind lingwal \n",
      " MY NAME IS ARVIND LINGWAL \n",
      " mY NAME IS aRVIND lINGWAL \n",
      "False\n",
      " my name is arvind lingwal \n",
      " my name is arvind lingwal \n",
      "9\n",
      "22\n",
      "False\n",
      "False\n",
      "['My', 'name', 'is', 'Arvind', 'Lingwal']\n",
      "False\n",
      " My nome is Arvind Lingwol \n",
      "My name is Arvind Lingwal\n",
      "[' ', ' ', ' ', ' ', ' ', ' ', 'A', 'L', 'M', 'a', 'a', 'd', 'e', 'g', 'i', 'i', 'i', 'l', 'm', 'n', 'n', 'n', 'r', 's', 'v', 'w', 'y']\n",
      "27\n"
     ]
    }
   ],
   "source": [
    " #Question 3:Write a Python program to implement 15 functions of string.\n",
    "s1=\" My name is Arvind Lingwal \"\n",
    "print(s1.lower())\n",
    "print(s1.upper())\n",
    "print(s1.swapcase())\n",
    "print(s1.isalpha())\n",
    "print(s1.capitalize())\n",
    "print(s1.casefold())\n",
    "print(s1.find(\"i\"))\n",
    "print(s1.index(\"g\"))\n",
    "print(s1.startswith(\"A\"))\n",
    "print(s1.endswith(\"D\"))\n",
    "print(s1.split())\n",
    "print(s1.isdigit())\n",
    "print(s1.replace(\"a\",\"o\"))\n",
    "print(s1.strip())\n",
    "print(sorted(s1))\n",
    "print(len(s1))"
   ]
  },
  {
   "cell_type": "code",
   "execution_count": 113,
   "metadata": {},
   "outputs": [
    {
     "name": "stdout",
     "output_type": "stream",
     "text": [
      "Aadaa is a Palindrome\n",
      "Aadaa & aaaad are Anagram\n"
     ]
    }
   ],
   "source": [
    "#Question 3:Write a Python program to check if the given string is a Palindrome or Anagram or None of them.Display the message\n",
    "#accordingly to the user.\n",
    "s1=\"Aadaa\"\n",
    "s2=\"aaaad\"\n",
    "rev_s1=s1.lower()[::-1]\n",
    "rev_s2=s2.lower()[::-1]\n",
    "s3=''.join(sorted(rev_s1))\n",
    "s4=''.join(sorted(rev_s2))\n",
    "\n",
    "if (s1.lower()==rev_s1):\n",
    "    print(s1,\"is a Palindrome\")\n",
    "if(s2.lower()==rev_s2):\n",
    "    print(s2,\"is a Palindrom\")\n",
    "if(s3==s4):\n",
    "    print(s1,\"&\",s2,\"are Anagram\")\n",
    "if(s1.lower()!=rev_s1 and s2.lower()!=rev_s2 and s3!=s4 ) :\n",
    "     print(\"None of them are Anagram or Palindrom\")\n",
    "        "
   ]
  },
  {
   "cell_type": "code",
   "execution_count": 23,
   "metadata": {},
   "outputs": [
    {
     "name": "stdout",
     "output_type": "stream",
     "text": [
      "drdarshaningleaimltrainer\n"
     ]
    }
   ],
   "source": [
    "#Question 4:Write a Python's user defined function that removes all the additional characters from the string and converts it \n",
    "#finally to lower case using built-in lower(). eg: If the string is \"Dr. Darshan Ingle @AI-ML Trainer\", then the output\n",
    "#be \"drdarshaningleaimltrainer\".\n",
    "\n",
    "\n",
    "def remove(str1=''):\n",
    "    \n",
    "    valid_char= list(\"abcdefghijklmnopqrstuvwxyz\");\n",
    "    for i in str1:\n",
    "        if i not in valid_char:\n",
    "            str1=str1.replace(i,'')\n",
    "    return str1\n",
    "    \n",
    "s1=\"Dr. Darshan Ingle @AI-ML Trainer\"   \n",
    "print(remove(s1.lower()));"
   ]
  },
  {
   "cell_type": "code",
   "execution_count": null,
   "metadata": {},
   "outputs": [],
   "source": []
  },
  {
   "cell_type": "code",
   "execution_count": null,
   "metadata": {},
   "outputs": [],
   "source": []
  }
 ],
 "metadata": {
  "kernelspec": {
   "display_name": "Python 3",
   "language": "python",
   "name": "python3"
  },
  "language_info": {
   "codemirror_mode": {
    "name": "ipython",
    "version": 3
   },
   "file_extension": ".py",
   "mimetype": "text/x-python",
   "name": "python",
   "nbconvert_exporter": "python",
   "pygments_lexer": "ipython3",
   "version": "3.7.6"
  }
 },
 "nbformat": 4,
 "nbformat_minor": 4
}
