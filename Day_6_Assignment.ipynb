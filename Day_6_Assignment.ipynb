{
 "cells": [
  {
   "cell_type": "code",
   "execution_count": 7,
   "metadata": {},
   "outputs": [
    {
     "name": "stdout",
     "output_type": "stream",
     "text": [
      "google\n"
     ]
    }
   ],
   "source": [
    "#Question 1:Assuming that we have some email addresses in the \"username@companyname.com\" format, please write programto print the company\n",
    "#name of a given email address.Both user names and company names are composed of lettersonly.\n",
    "ip=\"arvind.lingwal@google.com\"\n",
    "x=ip.index(\"@\")\n",
    "print(ip[x+1:len(ip)-4])"
   ]
  },
  {
   "cell_type": "code",
   "execution_count": 20,
   "metadata": {},
   "outputs": [
    {
     "name": "stdout",
     "output_type": "stream",
     "text": [
      "without,hello,bag,world\n",
      "Before Sorting list is= ['without', 'hello', 'bag', 'world']\n",
      "After Sorting Alphabetically=\n",
      " bag,hello,without,world\n"
     ]
    }
   ],
   "source": [
    "#Question 2:Write a program that accepts a comma-separated sequence of words as input and prints the words in a comma separated\n",
    "#sequence after sorting them alphabetically.\n",
    "l=input().split(',')\n",
    "#print(\"Before Sorting list is=\",l)\n",
    "l.sort()\n",
    "print(\"After Sorting Alphabetically=\\n\",','.join(l))\n"
   ]
  },
  {
   "cell_type": "markdown",
   "metadata": {},
   "source": [
    "#Question 3:Create your own Jupyter Notebook for Sets.\n",
    "Set:-\n",
    "A set is a collection which is unordered and unindexed. In Python sets are written with curly brackets."
   ]
  },
  {
   "cell_type": "code",
   "execution_count": 21,
   "metadata": {},
   "outputs": [
    {
     "name": "stdout",
     "output_type": "stream",
     "text": [
      "cherry\n",
      "banana\n",
      "apple\n"
     ]
    }
   ],
   "source": [
    "#Loop through the set, and print the values:\n",
    "tset = {\"apple\", \"banana\", \"cherry\"}\n",
    "\n",
    "for x in thisset:\n",
    "  print(x)"
   ]
  },
  {
   "cell_type": "code",
   "execution_count": 22,
   "metadata": {},
   "outputs": [
    {
     "name": "stdout",
     "output_type": "stream",
     "text": [
      "True\n"
     ]
    }
   ],
   "source": [
    "#Check if \"apple\" is present in the set:\n",
    "tset = {\"apple\", \"banana\", \"cherry\"}\n",
    "\n",
    "print(\"apple\" in tset)"
   ]
  },
  {
   "cell_type": "code",
   "execution_count": 23,
   "metadata": {},
   "outputs": [
    {
     "name": "stdout",
     "output_type": "stream",
     "text": [
      "{'cherry', 'banana', 'apple', 'orange'}\n"
     ]
    }
   ],
   "source": [
    "#Add an item to a set, using the add() method:\n",
    "\n",
    "tset.add(\"orange\")\n",
    "\n",
    "print(tset)"
   ]
  },
  {
   "cell_type": "code",
   "execution_count": 13,
   "metadata": {},
   "outputs": [
    {
     "name": "stdout",
     "output_type": "stream",
     "text": [
      "[3, 5, 8]\n"
     ]
    }
   ],
   "source": [
    "#Question 4:Given a list of n-1 numbers ranging from 1 to n, your task is to find the missing number. There are no duplicates.\n",
    " \n",
    "def find_missing(l): \n",
    "    return [x for x in range(l[0], l[-1]+1)  \n",
    "                               if x not in l] \n",
    "  \n",
    "\n",
    "l = [1, 2, 4, 6, 7, 9, 10] \n",
    "print(find_missing(l))"
   ]
  },
  {
   "cell_type": "code",
   "execution_count": 10,
   "metadata": {},
   "outputs": [
    {
     "name": "stdout",
     "output_type": "stream",
     "text": [
      "The original list is : [1, 5, 3, 5, 6, 3, 5, 6, 1]\n",
      "The list after removing duplicates : [1, 5, 3, 6]\n"
     ]
    }
   ],
   "source": [
    "##Question 5:With a given list L, write a program to print this list L after removing all duplicate values with original \n",
    "#order reserved.\n",
    "L = [1,5, 3, 5, 6, 3, 5, 6, 1] \n",
    "print (\"The original list is : \" +  str(L)) \n",
    "  \n",
    "res = [] \n",
    "for i in L: \n",
    "    if i not in res: \n",
    "        res.append(i) \n",
    "  \n",
    "print (\"The list after removing duplicates : \" + str(res))"
   ]
  },
  {
   "cell_type": "code",
   "execution_count": null,
   "metadata": {},
   "outputs": [],
   "source": []
  }
 ],
 "metadata": {
  "kernelspec": {
   "display_name": "Python 3",
   "language": "python",
   "name": "python3"
  },
  "language_info": {
   "codemirror_mode": {
    "name": "ipython",
    "version": 3
   },
   "file_extension": ".py",
   "mimetype": "text/x-python",
   "name": "python",
   "nbconvert_exporter": "python",
   "pygments_lexer": "ipython3",
   "version": "3.7.6"
  }
 },
 "nbformat": 4,
 "nbformat_minor": 4
}
